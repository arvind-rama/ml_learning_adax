{
 "cells": [
  {
   "cell_type": "markdown",
   "metadata": {},
   "source": [
    "# Call Center\n",
    "\n",
    "### Introduction \n",
    "\n",
    "The date is 27 April, 2015. A call center which specializes in the sale of glittery merchandise advertised in late-night infomercials is having some doubts about an important business decision. Lacking the on-site expertise required to make sense of their data, they have hired you to examine the problem and lend your expert advise. You'll find that data in the file `CallCenter.csv`.\n",
    "\n",
    "In the previous year, the company which has hired you (let's call it Company A) acquired another company (Company B). Since the acquisition, calls for Company B have begun migrating into Company A's call center. Today, this migration is 50% complete; half of the calls for Company B appear in the dataset. The other half will be migrated in the coming months.\n",
    "\n",
    "Your task is to use this information to predict the optimal number of employees for the call center to employ. To do this, you will program a simulator of the call center. Once the simulation is written, a simple modification will allow us to predict what the sales data will look like upon the completion of the migration of Company B. This will inform the company's decisions about how many employees to hire."
   ]
  },
  {
   "cell_type": "markdown",
   "metadata": {
    "collapsed": true
   },
   "source": [
    "## Part I: Exploring the data\n",
    "\n",
    "### Load the data and get familiar with it\n",
    "Let's begin by examining the data to see what we can find. Load the data into a pandas dataframe using the `read_csv()` function. Print out a list of the column headings as well as the first 10 rows of data. How many rows of data are in this dataset?"
   ]
  },
  {
   "cell_type": "code",
   "execution_count": null,
   "metadata": {
    "collapsed": true
   },
   "outputs": [],
   "source": [
    "import pandas as pd"
   ]
  },
  {
   "cell_type": "code",
   "execution_count": null,
   "metadata": {
    "collapsed": true
   },
   "outputs": [],
   "source": [
    "# Read the data \n",
    "df = pd.read_csv(\"CallCenter.csv.zip\", compression='zip', header=0, sep=',', quotechar='\"')"
   ]
  },
  {
   "cell_type": "code",
   "execution_count": null,
   "metadata": {
    "collapsed": true,
    "scrolled": true
   },
   "outputs": [],
   "source": [
    "# Print number of columns and first 10 rows\n",
    "df.head(10)"
   ]
  },
  {
   "cell_type": "markdown",
   "metadata": {},
   "source": [
    "### Examine the numeric columns\n",
    "\n",
    "There are two columns we are particularly interested in: Credit Transfer and Total Time with Agent. Draw a histogram of the data in each of these columns. In your plots, can you identify the fingerprint of Company A and Company B?"
   ]
  },
  {
   "cell_type": "code",
   "execution_count": null,
   "metadata": {
    "collapsed": true
   },
   "outputs": [],
   "source": [
    "import matplotlib.pyplot as plt\n",
    "import seaborn as sns\n",
    "%matplotlib inline"
   ]
  },
  {
   "cell_type": "code",
   "execution_count": null,
   "metadata": {
    "collapsed": true
   },
   "outputs": [],
   "source": [
    "df[\"Total Time with Agent\"] = df[\"Total Time with Agent\"] * 60"
   ]
  },
  {
   "cell_type": "code",
   "execution_count": null,
   "metadata": {
    "collapsed": true
   },
   "outputs": [],
   "source": [
    "import numpy as np\n",
    "\n",
    "\n",
    "ct_np = np.array(df[\"Credit Transfer\"].tolist())\n",
    "tta_np = np.array(df[\"Total Time with Agent\"].tolist())\n",
    "\n",
    "print(\"Credit Transfer {} {} {} {} {}\".format(ct_np.mean(),ct_np.var(),ct_np.std(),ct_np.min(),ct_np.max()))\n",
    "print(\"Total Time with Agent {} {} {} {} {}\".format(tta_np.mean(),tta_np.var(),tta_np.std(),tta_np.min(),tta_np.max()))"
   ]
  },
  {
   "cell_type": "code",
   "execution_count": null,
   "metadata": {
    "collapsed": true
   },
   "outputs": [],
   "source": [
    "# Plot histograms\n",
    "#Complete Data\n",
    "ct = df[\"Credit Transfer\"].tolist()\n",
    "tta = df[\"Total Time with Agent\"].tolist()\n",
    "\n",
    "plt.subplot(2,1,1)\n",
    "plt.hist(ct,normed=True)\n",
    "plt.title(\"Distribution of Credit Transfer\")\n",
    "\n",
    "plt.subplot(2,1,2)\n",
    "plt.title(\"Distribution of Total Time with Agent\")\n",
    "plt.hist(tta,normed=True)\n",
    "\n",
    "plt.tight_layout()"
   ]
  },
  {
   "cell_type": "markdown",
   "metadata": {},
   "source": [
    "### Parse dates as datetime object\n",
    "\n",
    "We know that Company A acquired Company B sometime towards the end of 2014. Since then, calls for Company B have been migrated in batches into the call center. Can we find out when this began? Let's begin by parsing the 'Call Date' column in order to create a new column in our dataframe which holds Python `datetime` objects. Check out the [`to_datetime`](http://pandas.pydata.org/pandas-docs/stable/generated/pandas.to_datetime.html) function."
   ]
  },
  {
   "cell_type": "code",
   "execution_count": null,
   "metadata": {
    "collapsed": true
   },
   "outputs": [],
   "source": [
    "import datetime\n"
   ]
  },
  {
   "cell_type": "code",
   "execution_count": null,
   "metadata": {
    "collapsed": true
   },
   "outputs": [],
   "source": [
    "# Create datetime column\n",
    "df[\"Call Date Converted\"] = pd.to_datetime(df['Call Date'], format=\"%d %B %Y\")"
   ]
  },
  {
   "cell_type": "code",
   "execution_count": null,
   "metadata": {
    "collapsed": true
   },
   "outputs": [],
   "source": [
    "df.head(20)"
   ]
  },
  {
   "cell_type": "markdown",
   "metadata": {},
   "source": [
    "### Number of calls per day\n",
    "\n",
    "Let's examine the number of calls per day. Use the pandas `groupby()` function together with `size()` to count how many calls were answered each day. We know that the calls from Company B started coming in sometime in the latter half of 2014. Draw a plot of number of calls per day vs. date ranging from 1 June 2014 to 1 January 2015. You may want to use a \"boolean array\" for filtering."
   ]
  },
  {
   "cell_type": "code",
   "execution_count": null,
   "metadata": {
    "collapsed": true
   },
   "outputs": [],
   "source": [
    "# Plot calls per day\n",
    "data=df.groupby(['Call Date Converted']).size().to_frame('Calls').reset_index()\n",
    "data.columns =  [\"Call Date\",\"Total Calls\"]\n",
    "data.plot()"
   ]
  },
  {
   "cell_type": "code",
   "execution_count": null,
   "metadata": {
    "collapsed": true,
    "scrolled": true
   },
   "outputs": [],
   "source": [
    "data[325:330]"
   ]
  },
  {
   "cell_type": "markdown",
   "metadata": {},
   "source": [
    "Adjust the date window to identify two key dates: \n",
    "1. When did the migration begin? \n",
    "2. When did the most recent batch of calls from Company B come to our call center? It is on this date that the migration is 50% complete."
   ]
  },
  {
   "cell_type": "code",
   "execution_count": null,
   "metadata": {
    "collapsed": true
   },
   "outputs": [],
   "source": [
    "# Find key dates\n",
    "date = data[115:116].iloc[0][\"Call Date\"]\n",
    "date = datetime.datetime(2014,9,6)\n",
    "print(\"the migration began at {}\".format(date))\n",
    "\n",
    "fifty_percent_date = data[327:328].iloc[0][\"Call Date\"]\n",
    "print(\"the 50% migration completed on {}\".format(fifty_percent_date))"
   ]
  },
  {
   "cell_type": "markdown",
   "metadata": {},
   "source": [
    "## Part II: Modeling the data"
   ]
  },
  {
   "cell_type": "markdown",
   "metadata": {},
   "source": [
    "Use the information from the above plot to draw histograms for 'Credit Transfer' and 'Total Time with Agent' pertaining strictly to Company A."
   ]
  },
  {
   "cell_type": "code",
   "execution_count": null,
   "metadata": {
    "collapsed": true
   },
   "outputs": [],
   "source": [
    "from scipy import stats\n",
    "# Draw histograms\n",
    "before_mig_df = df[df['Call Date Converted'] < date]\n",
    "\n",
    "ct = before_mig_df[\"Credit Transfer\"].tolist()\n",
    "tta = before_mig_df[\"Total Time with Agent\"].tolist()\n",
    "\n",
    "plt.subplot(1,2,1)\n",
    "plt.hist(ct,normed=True , bins = 100)\n",
    "mu = before_mig_df[\"Credit Transfer\"].mean()\n",
    "std = before_mig_df[\"Credit Transfer\"].std()\n",
    "plt.hist(np.random.normal(mu,std, size = 1000000), bins = 1000, normed = True,alpha = 0.5)\n",
    "\n",
    "plt.subplot(1,2,2)\n",
    "plt.hist(tta,normed=True , bins = 100)\n",
    "mu = before_mig_df[\"Total Time with Agent\"].mean()\n",
    "std = before_mig_df[\"Total Time with Agent\"].std()\n",
    "plt.hist(np.random.normal(mu,std, size = 1000000), bins = 1000, normed = True,alpha=0.5)\n",
    "\n",
    "plt.show()"
   ]
  },
  {
   "cell_type": "markdown",
   "metadata": {},
   "source": [
    "### Total Time with Agent, prior to acquisition\n",
    "\n",
    "From the preceding section, we can see that the Total Time with Agent distribution prior to the acquisition appears to be normal. Compute the mean and standard deviation for this distribution. Write a simulator which produces data with the same distribution. Plot a histogram of the original data and simulated data on the same plot. Use the `alpha` parameter of the `hist()` function to adjust transparancy so that both distributions can be seen."
   ]
  },
  {
   "cell_type": "code",
   "execution_count": null,
   "metadata": {
    "collapsed": true
   },
   "outputs": [],
   "source": [
    "before_mig_df.hist(figsize=(16,20),bins=100)"
   ]
  },
  {
   "cell_type": "code",
   "execution_count": null,
   "metadata": {
    "collapsed": true
   },
   "outputs": [],
   "source": [
    "import numpy as np"
   ]
  },
  {
   "cell_type": "markdown",
   "metadata": {},
   "source": [
    "### Total Time with Agent - following 50% migration\n",
    "\n",
    "Let's consider the distribution of Total Time with Agent following the most recent batch of migrated calls. \n",
    "\n",
    "When a new call comes in, with a certain probability $p$, the call will be for Company A. Otherwise, it is for Company B. To begin with, let's guess that $p=0.5$.\n",
    "\n",
    "If the call is for Company A, we can assume that the distribution of Total Time with Agent will be the same as it was prior to the migration.\n",
    "\n",
    "If the call is for Company B, it will follow a different distribution with its own (so far unknown) mean and standard deviation. Let's start with a guess. Say $\\bar{x}_B=30$ and $\\sigma_B=2$.\n",
    "\n",
    "Write a function which simulates a call time based on the above criteria including the initial guesses. Draw a histogram of the results of your simulation on top of the histogram of the actual data. You will find that they do not match too well. Tweak the variables we have guessed ($p$, $\\bar{x}_B$, and $\\sigma_B$) until you have identified values which better match the observed distribution."
   ]
  },
  {
   "cell_type": "code",
   "execution_count": null,
   "metadata": {
    "collapsed": true
   },
   "outputs": [],
   "source": [
    "print(mu)\n",
    "print(std)"
   ]
  },
  {
   "cell_type": "code",
   "execution_count": null,
   "metadata": {
    "collapsed": true
   },
   "outputs": [],
   "source": [
    "plt.hist(np.concatenate((np.random.normal(loc=mu,scale=std, size = 1000000),np.random.normal(loc=30*60,scale=2*60, size = 1000000))))"
   ]
  },
  {
   "cell_type": "code",
   "execution_count": null,
   "metadata": {
    "collapsed": true
   },
   "outputs": [],
   "source": [
    "# Write simulation function here\n",
    "post_50_df = df[df['Call Date Converted'] >= fifty_percent_date]\n",
    "post_50_tta = post_50_df[\"Total Time with Agent\"].tolist()\n",
    "post_50_tta"
   ]
  },
  {
   "cell_type": "code",
   "execution_count": null,
   "metadata": {
    "collapsed": true
   },
   "outputs": [],
   "source": [
    "#probability of call coming to A or B = 0.5 - Binom\n",
    "\n",
    "plt.hist(tta,normed=True , bins = 100)\n",
    "plt.hist(post_50_tta,normed=True , bins = 100)\n",
    "#Company B - normal distribution mean and std deviation , 30 and 2\n",
    "plt.hist(np.random.normal(loc=30*60,scale=2*60, size = 1000000), bins = 1000, normed = True,alpha=0.5)\n",
    "#plt.hist(np.random.normal(loc=28,scale=6, size = 1000000), bins = 1000, normed = True,alpha=0.5)\n",
    "\n",
    "my_list = np.concatenate((np.random.normal(loc=mu,scale=std, size = 1000000),np.random.normal(loc=28.4*60,scale=3.8*60, size = 1000000)))\n",
    "\n",
    "plt.hist(my_list,bins = 1000, normed = True,alpha=0.5)\n",
    "\n",
    "plt.show()"
   ]
  },
  {
   "cell_type": "code",
   "execution_count": null,
   "metadata": {
    "collapsed": true
   },
   "outputs": [],
   "source": [
    "random_nrm_data_tta_compA = np.random.normal(loc=mu,scale=std, size = 1000000)\n",
    "random_nrm_data_tta_compB = np.random.normal(loc=28.4*60,scale=3.8*60, size = 1000000)\n",
    "\n",
    "randomsamplesA = []\n",
    "randomsamplesB = []\n",
    "for i in range(1000001):\n",
    "    outcome = np.random.binomial(1, .57)\n",
    "    #1 assumed to be company A\n",
    "    if (outcome == 1):\n",
    "        randomsampleA = np.random.choice(random_nrm_data_tta_compA)\n",
    "        randomsamplesA.append(randomsampleA)\n",
    "    else:\n",
    "        randomsampleB = np.random.choice(random_nrm_data_tta_compB)\n",
    "        randomsamplesB.append(randomsampleB)\n",
    "\n",
    "plt.hist(randomsamplesA+randomsamplesB,normed=True , bins = 100)\n",
    "#plt.hist(randomsamplesB,normed=True , bins = 100)\n",
    "plt.show()"
   ]
  },
  {
   "cell_type": "code",
   "execution_count": null,
   "metadata": {
    "collapsed": true
   },
   "outputs": [],
   "source": [
    "print(np.asarray(randomsamplesB).mean())\n",
    "print(np.asarray(randomsamplesB).std())"
   ]
  },
  {
   "cell_type": "code",
   "execution_count": null,
   "metadata": {
    "collapsed": true
   },
   "outputs": [],
   "source": [
    "# Plot histograms of original and simulated data"
   ]
  },
  {
   "cell_type": "markdown",
   "metadata": {},
   "source": [
    "### Credit Transfer"
   ]
  },
  {
   "cell_type": "markdown",
   "metadata": {},
   "source": [
    "Let's check if the Total Time with Agent is correlated to the Credit Transfer. First, use the `plot()` function to draw a scatterplot of these two variables. Put Total Time with Agent on the x axis and Credit Transfer on the y axis."
   ]
  },
  {
   "cell_type": "code",
   "execution_count": null,
   "metadata": {
    "collapsed": true
   },
   "outputs": [],
   "source": [
    "# Scatterplot\n",
    "df.plot.scatter(x=\"Total Time with Agent\", y=\"Credit Transfer\")"
   ]
  },
  {
   "cell_type": "markdown",
   "metadata": {},
   "source": [
    "Next, let's use the `np.polyfit()` function to fit a best fit line through this data. To get a best fit line, set the `deg` parameter of `polyfit` to 1. Its outputs will be the slope and intercept of a line. Plot the best fit line on top of the scatterplot."
   ]
  },
  {
   "cell_type": "code",
   "execution_count": null,
   "metadata": {
    "collapsed": true
   },
   "outputs": [],
   "source": [
    "# Compute slope and intercept + # Scatterplot with best fit line\n",
    "fig, ax = plt.subplots()\n",
    "fit = np.polyfit(x=df.loc[:,\"Total Time with Agent\"], y=df.loc[:,\"Credit Transfer\"], deg=1)\n",
    "ax.plot(df.loc[:,\"Total Time with Agent\"], fit[0] * df.loc[:,\"Total Time with Agent\"] + fit[1], color='red')\n",
    "ax.scatter(x=df.loc[:,\"Total Time with Agent\"], y=df.loc[:,\"Credit Transfer\"])\n",
    "\n",
    "fig.show()"
   ]
  },
  {
   "cell_type": "markdown",
   "metadata": {},
   "source": [
    "Notice that the datapoints are still scattered above and below the best fit line. Let's examine the spread of these datapoints. \n",
    "\n",
    "For each point, compute the error of the fit. The error is the true value of Credit Transfer subtract the fitted value from the model, or:\n",
    "\n",
    "```\n",
    "error = (True Credit Transfer) - (slope*Total Time with Agent + intercept)\n",
    "```\n",
    "\n",
    "Plot a histogram of this error and compute its mean and standard deviation. "
   ]
  },
  {
   "cell_type": "code",
   "execution_count": null,
   "metadata": {
    "collapsed": true
   },
   "outputs": [],
   "source": [
    "print(fit[0])\n",
    "print(fit[1])"
   ]
  },
  {
   "cell_type": "code",
   "execution_count": null,
   "metadata": {
    "collapsed": true
   },
   "outputs": [],
   "source": [
    "# Plot histogram of error\n",
    "error = df.loc[:,\"Credit Transfer\"] - (fit[0]*df.loc[:,\"Total Time with Agent\"]  + fit[1])\n",
    "error_df = error.to_frame(name=\"Error\")\n",
    "error_df.hist(normed=True,bins=100)"
   ]
  },
  {
   "cell_type": "markdown",
   "metadata": {},
   "source": [
    "We now will return to the simulation we wrote for Total Time with Agent. \n",
    "\n",
    "Using the mean and standard deviation of the error as well as the slope and intercept of the best fit line, improve your simulation to provide not only Total Time with Agent but also Credit Transfer following the 50% migration date. Once again, plot the histograms on the same plot with two colors to see that they line up."
   ]
  },
  {
   "cell_type": "code",
   "execution_count": null,
   "metadata": {
    "collapsed": true
   },
   "outputs": [],
   "source": [
    "# Simulate both credit transfer and total time with agent\n",
    "random_nrm_data_tta_compA = np.random.normal(loc=mu,scale=std, size = 1000000)\n",
    "random_nrm_data_tta_compB = np.random.normal(loc=28.4*60,scale=3.8*60, size = 1000000)\n",
    "random_nrm_data_ct_error = np.random.normal(loc=error_df.mean(),scale=error_df.std(), size = 1000000)\n",
    "\n",
    "randomsamplesCT = []\n",
    "for i in range(100000):\n",
    "    outcome = np.random.binomial(1, .57)\n",
    "    #1 assumed to be company A\n",
    "    if (outcome == 1):\n",
    "        randomsampleA = np.random.choice(random_nrm_data_tta_compA)\n",
    "        ct_error = np.random.choice(random_nrm_data_ct_error)\n",
    "        ctwitherror = (fit[0]*randomsampleA+fit[1])+ct_error\n",
    "        randomsamplesCT.append( ctwitherror)\n",
    "    else:\n",
    "        randomsampleB = np.random.choice(random_nrm_data_tta_compB)\n",
    "        ct_error = np.random.choice(random_nrm_data_ct_error)\n",
    "        ctwitherror = (fit[0]*randomsampleB+fit[1])+ct_error\n",
    "        randomsamplesCT.append(ctwitherror)\n",
    "\n",
    "        \n",
    "randomsamplesA = []\n",
    "randomsamplesB = []\n",
    "for i in range(1000001):\n",
    "    outcome = np.random.binomial(1, .57)\n",
    "    #1 assumed to be company A\n",
    "    if (outcome == 1):\n",
    "        randomsampleA = np.random.choice(random_nrm_data_tta_compA)\n",
    "        randomsamplesA.append(randomsampleA)\n",
    "    else:\n",
    "        randomsampleB = np.random.choice(random_nrm_data_tta_compB)\n",
    "        randomsamplesB.append(randomsampleB)\n",
    "\n",
    "#plt.hist(randomsamplesA+randomsamplesB,normed=True , bins = 100)\n",
    "plt.hist(randomsamplesCT,normed=True , bins = 100)\n",
    "plt.show()"
   ]
  },
  {
   "cell_type": "code",
   "execution_count": null,
   "metadata": {
    "collapsed": true
   },
   "outputs": [],
   "source": [
    "# Plot histogram of credit transfer\n",
    "\n",
    "post_50_ct = post_50_df[\"Credit Transfer\"].tolist()\n",
    "plt.hist(post_50_ct,normed=True , bins = 100)\n",
    "plt.hist(randomsamplesCT,normed=True , bins = 100,alpha=0.5)\n",
    "plt.show()\n"
   ]
  },
  {
   "cell_type": "markdown",
   "metadata": {
    "collapsed": true
   },
   "source": [
    "### Call times\n",
    "\n",
    "Let's find out the average amount of time between calls. To begin, modify the `datetime` column to include the call time. This will allow us to subtract two `datetime` objects to get a time difference.\n",
    "\n",
    "*Hint:* You may find [this question](http://stackoverflow.com/questions/17978092/combine-date-and-time-columns-using-python-pandas) on stackoverflow useful."
   ]
  },
  {
   "cell_type": "code",
   "execution_count": null,
   "metadata": {
    "collapsed": true
   },
   "outputs": [],
   "source": [
    "# Convert call time to datetime\n",
    "df[\"Call Date Time\"] = pd.to_datetime(df['Call Date'] + ' ' + df['Call Time'],format=\"%d %B %Y %H:%M:%S\")\n",
    "df"
   ]
  },
  {
   "cell_type": "markdown",
   "metadata": {},
   "source": [
    "Now that we have the call time included in our `datetime`, let's compute the difference between successive columns. For this we'll use the pandas `diff()` function. Create a new column which stores the number of seconds that elapsed since the last call. \n",
    "\n",
    "*Hint:* What is the type of the object created when you subtract one `datetime` object from another? Look for a method to convert this object into a number of seconds."
   ]
  },
  {
   "cell_type": "code",
   "execution_count": null,
   "metadata": {
    "collapsed": true
   },
   "outputs": [],
   "source": [
    "# Compute difference between call times\n",
    "df[\"Call Date Diff\"] = pd.DataFrame(df[\"Call Date Time\"]).diff(periods=1, axis=0)\n",
    "df[\"Call Date Total Seconds\"] = df[\"Call Date Diff\"].apply(lambda x: x.total_seconds())"
   ]
  },
  {
   "cell_type": "markdown",
   "metadata": {},
   "source": [
    "What is the average time between calls? Compute the mean. Draw a histogram of the time between calls in seconds. On the same plot, draw the PDF of a corresponding exponential distribution."
   ]
  },
  {
   "cell_type": "code",
   "execution_count": null,
   "metadata": {
    "collapsed": true
   },
   "outputs": [],
   "source": [
    "from scipy.stats import expon\n",
    "\n",
    "df[\"Call Date Total Seconds\"].hist(bins=100,normed=True)\n",
    "\n",
    "exps = []\n",
    "for i in range(1000):\n",
    "    exps.append(np.random.exponential(df[\"Call Date Total Seconds\"].mean()))\n",
    "\n",
    "plt.hist(exps,bins=100,normed=True)\n",
    "\n",
    "mu = df[\"Call Date Total Seconds\"].mean()\n",
    "t = np.linspace(1,df[\"Call Date Total Seconds\"].max())\n",
    "\n",
    "def f(t,mu):\n",
    "    return 1/mu* np.exp(-t/mu)\n",
    "\n",
    "plt.plot(t, f(t,mu))\n",
    "\n",
    "plt.show()\n",
    "\n"
   ]
  },
  {
   "cell_type": "code",
   "execution_count": null,
   "metadata": {
    "collapsed": true
   },
   "outputs": [],
   "source": [
    "post_50_df[\"Call Date Time\"] = pd.to_datetime(post_50_df['Call Date'] + ' ' + post_50_df['Call Time'],format=\"%d %B %Y %H:%M:%S\")\n",
    "post_50_df[\"Call Date Diff\"] = pd.DataFrame(post_50_df[\"Call Date Time\"]).diff(periods=1, axis=0)\n",
    "post_50_df[\"Call Date Total Seconds\"] = post_50_df[\"Call Date Diff\"].apply(lambda x: x.total_seconds())"
   ]
  },
  {
   "cell_type": "code",
   "execution_count": null,
   "metadata": {
    "collapsed": true
   },
   "outputs": [],
   "source": [
    "# Draw data histogram and exponential pdf\n",
    "post_50_df[\"Call Date Total Seconds\"].hist(bins=100,normed=True)\n",
    "\n",
    "exps = []\n",
    "for i in range(1000):\n",
    "    exps.append(np.random.exponential(post_50_df[\"Call Date Total Seconds\"].mean()))\n",
    "\n",
    "plt.hist(exps,bins=100,normed=True)\n",
    "\n",
    "mu = post_50_df[\"Call Date Total Seconds\"].mean()\n",
    "t = np.linspace(1,post_50_df[\"Call Date Total Seconds\"].max())\n",
    "\n",
    "\n",
    "plt.plot(t, f(t,mu))\n",
    "\n",
    "plt.show()\n",
    "\n"
   ]
  },
  {
   "cell_type": "markdown",
   "metadata": {},
   "source": [
    "What are the average number of calls per day following the latest migration?"
   ]
  },
  {
   "cell_type": "code",
   "execution_count": null,
   "metadata": {
    "collapsed": true
   },
   "outputs": [],
   "source": [
    "# Average number of calls per day\n",
    "grouped_data = post_50_df.groupby(\"Call Date Converted\").size().to_frame('Total Calls').reset_index()\n",
    "sum(grouped_data[\"Total Calls\"])/len(grouped_data)"
   ]
  },
  {
   "cell_type": "markdown",
   "metadata": {},
   "source": [
    "Of these, how many are due to Company A and how many are due to Company B? *Hint:* Use the value for $p$ you discovered above."
   ]
  },
  {
   "cell_type": "code",
   "execution_count": null,
   "metadata": {
    "collapsed": true
   },
   "outputs": [],
   "source": [
    "# Average calls for Company A and for Company B\n",
    "totalcallsA = []\n",
    "totalcallsB = []\n",
    "for j in range(0,10000):\n",
    "    calls = []\n",
    "    for i in range(0,2405):\n",
    "        calls.append(np.random.binomial(1, .57))\n",
    "    totalcallsA.append(sum(calls))\n",
    "    totalcallsB.append(2405-sum(calls))\n",
    "print(sum(totalcallsA)/10000)\n",
    "print(sum(totalcallsB)/10000)\n",
    "\n"
   ]
  },
  {
   "cell_type": "code",
   "execution_count": null,
   "metadata": {
    "collapsed": true
   },
   "outputs": [],
   "source": [
    "np.random.binomial(2405,.57)"
   ]
  },
  {
   "cell_type": "markdown",
   "metadata": {},
   "source": [
    "How many calls do you expect per day after the migration of Company B is complete?"
   ]
  },
  {
   "cell_type": "code",
   "execution_count": null,
   "metadata": {
    "collapsed": true
   },
   "outputs": [],
   "source": [
    "#  Total number of expected calls after migration\n",
    "#Average calls to company B are 1034 at 50%, approx total number of calls after migration 2000"
   ]
  },
  {
   "cell_type": "markdown",
   "metadata": {},
   "source": [
    "What would be the average time between calls (in seconds) for this many customers?"
   ]
  },
  {
   "cell_type": "code",
   "execution_count": null,
   "metadata": {
    "collapsed": true
   },
   "outputs": [],
   "source": [
    "# Average time between calls \n",
    "post_50_df[\"Call Date Total Seconds\"].fillna(value=0,inplace=True)\n",
    "average_time_between_calls_50 = post_50_df[\"Call Date Total Seconds\"].sum()/post_50_df.shape[0]"
   ]
  },
  {
   "cell_type": "code",
   "execution_count": null,
   "metadata": {
    "collapsed": true
   },
   "outputs": [],
   "source": [
    "86400/3430"
   ]
  },
  {
   "cell_type": "code",
   "execution_count": null,
   "metadata": {
    "collapsed": true
   },
   "outputs": [],
   "source": [
    "#Probability of calls to A \n",
    "1367/3430"
   ]
  },
  {
   "cell_type": "markdown",
   "metadata": {},
   "source": [
    "## Combined simulation\n",
    "\n",
    "Create a function that simulates a day's worth of calls. Take `number_of_employees` as an input. Use a list with length equal to number of employees to track whether a given employee is busy on a call. If all employees are busy, assume the call is lost. Compute the total credit transfer for a day with 10 employees. Also compute the number of calls dropped."
   ]
  },
  {
   "cell_type": "code",
   "execution_count": null,
   "metadata": {
    "collapsed": true
   },
   "outputs": [],
   "source": [
    "# Write a function to simulate a days worth of calls\n",
    "def total_credit_transfer_per_day(number_of_employees,\n",
    "                                  time_between_calls,\n",
    "                                  mean_of_ttwa_companyA,\n",
    "                                  std_dev_of_ttwa_companyA,\n",
    "                                  mean_of_ttwa_companyB,\n",
    "                                  std_dev_of_ttwa_companyB,\n",
    "                                  mean_of_error,\n",
    "                                  std_dev_of_error,\n",
    "                                  slope,\n",
    "                                  intercept,\n",
    "                                  probability_of_assignment\n",
    "                                 ):\n",
    "    number_of_employees_available = number_of_employees\n",
    "    \n",
    "    #On call list\n",
    "    ttwa_of_on_call_employee = []\n",
    "    \n",
    "    time = 0\n",
    "    call_drop = 0\n",
    "    credit_transfer = 0\n",
    "    #f= open(\"debug.txt\",\"w+\")\n",
    "    while(time < 86400):\n",
    "        #Time of next call\n",
    "        time +=np.random.exponential(time_between_calls)\n",
    "        \n",
    "        #Filter on call list to store number of employees post completed calls\n",
    "        filterlist = [elem for elem in ttwa_of_on_call_employee if elem <= time]\n",
    "        employees_available_post_call = len(filterlist)\n",
    "        number_of_employees_available += employees_available_post_call\n",
    "        #Filter on call list to remove completed calls\n",
    "        ttwa_of_on_call_employee = [elem for elem in ttwa_of_on_call_employee if elem > time]\n",
    "        \n",
    "        if (number_of_employees_available > 0):\n",
    "            companyA = np.random.binomial(1,probability_of_assignment)\n",
    "            if (companyA):\n",
    "                ttwa_sample = np.random.normal(loc=mean_of_ttwa_companyA,scale=std_dev_of_ttwa_companyA)        \n",
    "            else:\n",
    "                ttwa_sample = np.random.normal(loc=mean_of_ttwa_companyB,scale=std_dev_of_ttwa_companyB)\n",
    "            #Time of call + norm random of ttwa\n",
    "            ttwa_of_on_call_employee.append((ttwa_sample) + time)\n",
    "            ct = (slope*ttwa_sample+intercept)+np.random.normal(loc=mean_of_error,scale=std_dev_of_error)\n",
    "            credit_transfer += ct\n",
    "            number_of_employees_available = number_of_employees_available - 1\n",
    "        else:\n",
    "            call_drop += 1\n",
    "        #f.write(\"No of employees:{},Time:{},TTWA List:{} \\r\\n\".format(number_of_employees_available,time,ttwa_of_on_call_employee))\n",
    "    #f.close()\n",
    "    return (call_drop,credit_transfer)"
   ]
  },
  {
   "cell_type": "code",
   "execution_count": null,
   "metadata": {
    "collapsed": true
   },
   "outputs": [],
   "source": [
    "np.random.normal(loc=28.4*60,scale=3.8*60) + 1000"
   ]
  },
  {
   "cell_type": "code",
   "execution_count": null,
   "metadata": {
    "collapsed": true
   },
   "outputs": [],
   "source": [
    "# Simulate a day's worth of calls for 10 employees\n",
    "total_credit_transfer_per_day(10,86400/3430,mu,std,28.4*60,3.8*60,error_df[\"Error\"].mean(),error_df[\"Error\"].std(),fit[0],fit[1],1367/3430)"
   ]
  },
  {
   "cell_type": "code",
   "execution_count": null,
   "metadata": {
    "collapsed": true
   },
   "outputs": [],
   "source": [
    "results"
   ]
  },
  {
   "cell_type": "markdown",
   "metadata": {},
   "source": [
    "Use this simulator to make a plots of 1.) number of employees vs. Credit Transfer and 2.) number of employees vs. dropped calls. How many employees should the company hire to eliminate dropped calls?"
   ]
  },
  {
   "cell_type": "code",
   "execution_count": null,
   "metadata": {
    "collapsed": true
   },
   "outputs": [],
   "source": [
    "# Loop over number of employees and run simulator\n",
    "results = []\n",
    "for number_of_employees in range(0,100):\n",
    "    call_drops = 0\n",
    "    credit_transfer = 0\n",
    "    item = total_credit_transfer_per_day(number_of_employees,86400/3430,mu,std,28.4*60,3.8*60,error_df[\"Error\"].mean(),error_df[\"Error\"].std(),fit[0],fit[1],1367/3430)\n",
    "    results.append((number_of_employees ,item[0] , item[1] ))"
   ]
  },
  {
   "cell_type": "code",
   "execution_count": null,
   "metadata": {
    "collapsed": true
   },
   "outputs": [],
   "source": [
    "# Plot Credit Transfer and Dropped Calls vs. number of employees\n",
    "new_df = pd.DataFrame(results,columns=[\"No of Employees\",\"Call Drop\",\"Credit Transfer\"])\n",
    "new_df\n",
    "\n",
    "new_df.plot.scatter(x=\"No of Employees\", y=\"Credit Transfer\")\n",
    "new_df.plot.scatter(x=\"No of Employees\", y=\"Call Drop\")"
   ]
  },
  {
   "cell_type": "markdown",
   "metadata": {},
   "source": [
    "Use the simulator to generate profits at different numbers of employees.  Create a matrix of profits, with costs per employee increasing down the rows, and the number of employees increasing across the columns. \n",
    "\n",
    "Currently the call center optimizes NOT dropping calls, and they hire the minimum number of employees to ensure that no calls are dropped.  \n",
    "If the company were to switch to profit maximization, at what cost per employee should the company start considering allow some dropped calls to save on costs?"
   ]
  },
  {
   "cell_type": "code",
   "execution_count": null,
   "metadata": {
    "collapsed": true
   },
   "outputs": [],
   "source": [
    "for i in range(8,36):\n",
    "    new_df[\"Profit at {} USD per hour\".format(i)] = new_df[\"Credit Transfer\"] - (new_df[\"No of Employees\"] * i*24)"
   ]
  },
  {
   "cell_type": "code",
   "execution_count": null,
   "metadata": {
    "collapsed": true
   },
   "outputs": [],
   "source": [
    "new_df"
   ]
  },
  {
   "cell_type": "code",
   "execution_count": null,
   "metadata": {
    "collapsed": true
   },
   "outputs": [],
   "source": [
    "new_df.plot()"
   ]
  },
  {
   "cell_type": "code",
   "execution_count": null,
   "metadata": {
    "collapsed": true
   },
   "outputs": [],
   "source": [
    "max_row = new_df[\"Profit at 8 USD per hour\"].argmax()\n",
    "new_df[max_row:max_row+1]"
   ]
  }
 ],
 "metadata": {
  "anaconda-cloud": {},
  "kernelspec": {
   "display_name": "Python 3",
   "language": "python",
   "name": "python3"
  },
  "language_info": {
   "codemirror_mode": {
    "name": "ipython",
    "version": 3
   },
   "file_extension": ".py",
   "mimetype": "text/x-python",
   "name": "python",
   "nbconvert_exporter": "python",
   "pygments_lexer": "ipython3",
   "version": "3.6.1"
  }
 },
 "nbformat": 4,
 "nbformat_minor": 1
}
